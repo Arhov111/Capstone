{
 "cells": [
  {
   "cell_type": "code",
   "execution_count": 1,
   "id": "261c07eb",
   "metadata": {},
   "outputs": [],
   "source": [
    "import pandas as pd\n",
    "import numpy as np\n",
    "import matplotlib.pyplot as plt\n",
    "import statsmodels.api as sm\n",
    "from sklearn.metrics  import mean_squared_error\n",
    "import warnings\n",
    "warnings.filterwarnings(\"ignore\")\n",
    "from datetime import datetime, timedelta\n",
    "from statsmodels.tsa.api import SimpleExpSmoothing\n",
    "from statsmodels.tsa.seasonal import seasonal_decompose\n",
    "from statsmodels.tsa.holtwinters import ExponentialSmoothing\n",
    "from sklearn.metrics import mean_squared_error, mean_absolute_percentage_error"
   ]
  },
  {
   "cell_type": "code",
   "execution_count": 105,
   "id": "8e9dbcd8",
   "metadata": {},
   "outputs": [],
   "source": [
    "def decimal_to_hms(time):\n",
    "    seconds = int(time * 3600)\n",
    "    return str(timedelta(seconds=seconds))"
   ]
  },
  {
   "cell_type": "markdown",
   "id": "44c55b20",
   "metadata": {},
   "source": [
    "# 20180612"
   ]
  },
  {
   "cell_type": "code",
   "execution_count": 82,
   "id": "7e26c18c",
   "metadata": {},
   "outputs": [],
   "source": [
    "df612 = pd.read_csv('20180612.csv')"
   ]
  },
  {
   "cell_type": "code",
   "execution_count": 83,
   "id": "47147007",
   "metadata": {},
   "outputs": [],
   "source": [
    "df612 = df612.rename(columns={'Time (h)': 'time', 'Mass (ng)': 'mass', 'Mean mass (ng)' : 'mean'})\n",
    "df612 = df612.drop(['mean'], axis = 1)\n",
    "df612 = df612.dropna()"
   ]
  },
  {
   "cell_type": "code",
   "execution_count": 5,
   "id": "eaed350f",
   "metadata": {},
   "outputs": [
    {
     "data": {
      "text/html": [
       "<div>\n",
       "<style scoped>\n",
       "    .dataframe tbody tr th:only-of-type {\n",
       "        vertical-align: middle;\n",
       "    }\n",
       "\n",
       "    .dataframe tbody tr th {\n",
       "        vertical-align: top;\n",
       "    }\n",
       "\n",
       "    .dataframe thead th {\n",
       "        text-align: right;\n",
       "    }\n",
       "</style>\n",
       "<table border=\"1\" class=\"dataframe\">\n",
       "  <thead>\n",
       "    <tr style=\"text-align: right;\">\n",
       "      <th></th>\n",
       "      <th>time</th>\n",
       "      <th>mass</th>\n",
       "    </tr>\n",
       "  </thead>\n",
       "  <tbody>\n",
       "    <tr>\n",
       "      <th>0</th>\n",
       "      <td>-7.360657e-05</td>\n",
       "      <td>0.092030</td>\n",
       "    </tr>\n",
       "    <tr>\n",
       "      <th>1</th>\n",
       "      <td>0.000000e+00</td>\n",
       "      <td>0.092264</td>\n",
       "    </tr>\n",
       "    <tr>\n",
       "      <th>2</th>\n",
       "      <td>5.547206e-07</td>\n",
       "      <td>0.092465</td>\n",
       "    </tr>\n",
       "    <tr>\n",
       "      <th>3</th>\n",
       "      <td>4.963742e-06</td>\n",
       "      <td>0.092591</td>\n",
       "    </tr>\n",
       "    <tr>\n",
       "      <th>4</th>\n",
       "      <td>1.107905e-05</td>\n",
       "      <td>0.092631</td>\n",
       "    </tr>\n",
       "    <tr>\n",
       "      <th>...</th>\n",
       "      <td>...</td>\n",
       "      <td>...</td>\n",
       "    </tr>\n",
       "    <tr>\n",
       "      <th>757171</th>\n",
       "      <td>2.103153e+00</td>\n",
       "      <td>0.292527</td>\n",
       "    </tr>\n",
       "    <tr>\n",
       "      <th>757172</th>\n",
       "      <td>2.103154e+00</td>\n",
       "      <td>0.292558</td>\n",
       "    </tr>\n",
       "    <tr>\n",
       "      <th>757173</th>\n",
       "      <td>2.103155e+00</td>\n",
       "      <td>0.292708</td>\n",
       "    </tr>\n",
       "    <tr>\n",
       "      <th>757174</th>\n",
       "      <td>2.103165e+00</td>\n",
       "      <td>0.292708</td>\n",
       "    </tr>\n",
       "    <tr>\n",
       "      <th>757175</th>\n",
       "      <td>2.103165e+00</td>\n",
       "      <td>0.292744</td>\n",
       "    </tr>\n",
       "  </tbody>\n",
       "</table>\n",
       "<p>757176 rows × 2 columns</p>\n",
       "</div>"
      ],
      "text/plain": [
       "                time      mass\n",
       "0      -7.360657e-05  0.092030\n",
       "1       0.000000e+00  0.092264\n",
       "2       5.547206e-07  0.092465\n",
       "3       4.963742e-06  0.092591\n",
       "4       1.107905e-05  0.092631\n",
       "...              ...       ...\n",
       "757171  2.103153e+00  0.292527\n",
       "757172  2.103154e+00  0.292558\n",
       "757173  2.103155e+00  0.292708\n",
       "757174  2.103165e+00  0.292708\n",
       "757175  2.103165e+00  0.292744\n",
       "\n",
       "[757176 rows x 2 columns]"
      ]
     },
     "execution_count": 5,
     "metadata": {},
     "output_type": "execute_result"
    }
   ],
   "source": [
    "df612"
   ]
  },
  {
   "cell_type": "code",
   "execution_count": 24,
   "id": "b3fa881a",
   "metadata": {},
   "outputs": [],
   "source": [
    "df612['time'] = df612['time'].apply(decimal_to_hms)"
   ]
  },
  {
   "cell_type": "code",
   "execution_count": 25,
   "id": "d903b935",
   "metadata": {},
   "outputs": [],
   "source": [
    "df612.set_index('time', inplace=True)"
   ]
  },
  {
   "cell_type": "code",
   "execution_count": 84,
   "id": "5b6b7baa",
   "metadata": {},
   "outputs": [],
   "source": [
    "df612 = df612[df612['mass']>0]"
   ]
  },
  {
   "cell_type": "code",
   "execution_count": 85,
   "id": "a65e407a",
   "metadata": {},
   "outputs": [],
   "source": [
    "analysis = df612[['mass']].copy()"
   ]
  },
  {
   "cell_type": "code",
   "execution_count": 95,
   "id": "eb12844a",
   "metadata": {},
   "outputs": [],
   "source": [
    "decompose_result_mult = seasonal_decompose(analysis, model=\"multiplicative\", period = 200000)"
   ]
  },
  {
   "cell_type": "code",
   "execution_count": 96,
   "id": "fbf16cdc",
   "metadata": {},
   "outputs": [
    {
     "data": {
      "image/png": "[encoded data removed]",
      "text/plain": [
       "<Figure size 640x480 with 4 Axes>"
      ]
     },
     "metadata": {},
     "output_type": "display_data"
    }
   ],
   "source": [
    "trend = decompose_result_mult.trend\n",
    "seasonal = decompose_result_mult.seasonal\n",
    "residual = decompose_result_mult.resid\n",
    "\n",
    "decompose_result_mult.plot();"
   ]
  },
  {
   "cell_type": "code",
   "execution_count": null,
   "id": "cc29fbb9",
   "metadata": {},
   "outputs": [],
   "source": [
    "train_size = int(len(df612) * 0.95)\n",
    "train = df612[:train_size]\n",
    "test = df612[train_size:]"
   ]
  },
  {
   "cell_type": "code",
   "execution_count": null,
   "id": "8e638ed3",
   "metadata": {},
   "outputs": [],
   "source": [
    "alpha = 0.3\n",
    "beta = 0.1\n",
    "gamma = 0.2"
   ]
  },
  {
   "cell_type": "code",
   "execution_count": null,
   "id": "aa807d03",
   "metadata": {},
   "outputs": [],
   "source": [
    "# Create the model\n",
    "model = ExponentialSmoothing(train, seasonal_periods=24, trend='add', seasonal='add')\n",
    "\n",
    "# Fit the model to the training data\n",
    "model_fit = model.fit(smoothing_level=alpha, smoothing_trend=beta, smoothing_seasonal=gamma)\n"
   ]
  },
  {
   "cell_type": "code",
   "execution_count": null,
   "id": "053a85b1",
   "metadata": {},
   "outputs": [],
   "source": [
    "predictions = model_fit.forecast(len(test))"
   ]
  },
  {
   "cell_type": "code",
   "execution_count": null,
   "id": "9a5b753e",
   "metadata": {},
   "outputs": [],
   "source": [
    "# Evaluate the model\n",
    "mse = mean_squared_error(test, predictions)\n",
    "rmse = np.sqrt(mse)\n",
    "print(f'MSE: {mse}, RMSE: {rmse}')\n"
   ]
  },
  {
   "cell_type": "code",
   "execution_count": null,
   "id": "6bfde532",
   "metadata": {},
   "outputs": [],
   "source": [
    "# Visualize the results\n",
    "plt.plot(train, label='Training')\n",
    "plt.plot(test, label='Testing')\n",
    "plt.plot(predictions, label='Predictions')\n",
    "plt.ylabel('Mass (ng)', fontsize=15)\n",
    "plt.gca().set_xticklabels([])\n",
    "plt.legend()\n",
    "plt.show()"
   ]
  },
  {
   "cell_type": "code",
   "execution_count": null,
   "id": "109016e3",
   "metadata": {},
   "outputs": [],
   "source": [
    "forecast = model_fit.forecast(steps=38300)\n",
    "forecast"
   ]
  },
  {
   "cell_type": "code",
   "execution_count": null,
   "id": "7878269b",
   "metadata": {},
   "outputs": [],
   "source": [
    "plt.plot(train, label='Training')\n",
    "plt.plot(test, label='Testing')\n",
    "plt.plot(predictions, label='Predictions')\n",
    "plt.ylabel('Mass (ng)', fontsize=15)\n",
    "plt.plot(range(len(train), len(train)+len(forecast)), forecast, label='Forecast')\n",
    "plt.gca().set_xticklabels([])\n",
    "plt.legend()\n",
    "plt.show()"
   ]
  },
  {
   "cell_type": "code",
   "execution_count": null,
   "id": "fb25d08f",
   "metadata": {},
   "outputs": [],
   "source": [
    "plt.plot(forecast)\n",
    "plt.xlabel('Steps (Indices)', fontsize=10)\n",
    "plt.ylabel('Mass (ng)', fontsize=10)\n",
    "plt.legend()\n",
    "plt.show()"
   ]
  },
  {
   "cell_type": "markdown",
   "id": "2c84a6a4",
   "metadata": {},
   "source": [
    "# 20180711"
   ]
  },
  {
   "cell_type": "code",
   "execution_count": 40,
   "id": "9e8b3c03",
   "metadata": {},
   "outputs": [],
   "source": [
    "df11 = pd.read_csv('20180711.csv')"
   ]
  },
  {
   "cell_type": "code",
   "execution_count": 41,
   "id": "d0a91778",
   "metadata": {},
   "outputs": [],
   "source": [
    "df11 = df11.rename(columns={'Time (h)': 'time', 'Mass (ng)': 'mass', 'Mean mass (ng)' : 'mean'})\n",
    "df11 = df11.drop(['mean'], axis = 1)\n",
    "df11 = df11.dropna()"
   ]
  },
  {
   "cell_type": "code",
   "execution_count": 42,
   "id": "05ac84b0",
   "metadata": {},
   "outputs": [
    {
     "data": {
      "text/html": [
       "<div>\n",
       "<style scoped>\n",
       "    .dataframe tbody tr th:only-of-type {\n",
       "        vertical-align: middle;\n",
       "    }\n",
       "\n",
       "    .dataframe tbody tr th {\n",
       "        vertical-align: top;\n",
       "    }\n",
       "\n",
       "    .dataframe thead th {\n",
       "        text-align: right;\n",
       "    }\n",
       "</style>\n",
       "<table border=\"1\" class=\"dataframe\">\n",
       "  <thead>\n",
       "    <tr style=\"text-align: right;\">\n",
       "      <th></th>\n",
       "      <th>time</th>\n",
       "      <th>mass</th>\n",
       "    </tr>\n",
       "  </thead>\n",
       "  <tbody>\n",
       "    <tr>\n",
       "      <th>0</th>\n",
       "      <td>-7.516583e-05</td>\n",
       "      <td>0.042978</td>\n",
       "    </tr>\n",
       "    <tr>\n",
       "      <th>1</th>\n",
       "      <td>0.000000e+00</td>\n",
       "      <td>0.043159</td>\n",
       "    </tr>\n",
       "    <tr>\n",
       "      <th>2</th>\n",
       "      <td>5.556477e-07</td>\n",
       "      <td>0.043285</td>\n",
       "    </tr>\n",
       "    <tr>\n",
       "      <th>3</th>\n",
       "      <td>8.340677e-07</td>\n",
       "      <td>0.043392</td>\n",
       "    </tr>\n",
       "    <tr>\n",
       "      <th>4</th>\n",
       "      <td>1.112223e-06</td>\n",
       "      <td>0.043424</td>\n",
       "    </tr>\n",
       "    <tr>\n",
       "      <th>...</th>\n",
       "      <td>...</td>\n",
       "      <td>...</td>\n",
       "    </tr>\n",
       "    <tr>\n",
       "      <th>980778</th>\n",
       "      <td>2.724269e+00</td>\n",
       "      <td>0.099858</td>\n",
       "    </tr>\n",
       "    <tr>\n",
       "      <th>980779</th>\n",
       "      <td>2.724270e+00</td>\n",
       "      <td>0.099167</td>\n",
       "    </tr>\n",
       "    <tr>\n",
       "      <th>980780</th>\n",
       "      <td>2.724271e+00</td>\n",
       "      <td>0.097943</td>\n",
       "    </tr>\n",
       "    <tr>\n",
       "      <th>980781</th>\n",
       "      <td>2.724281e+00</td>\n",
       "      <td>0.097541</td>\n",
       "    </tr>\n",
       "    <tr>\n",
       "      <th>980782</th>\n",
       "      <td>2.724282e+00</td>\n",
       "      <td>0.097224</td>\n",
       "    </tr>\n",
       "  </tbody>\n",
       "</table>\n",
       "<p>980783 rows × 2 columns</p>\n",
       "</div>"
      ],
      "text/plain": [
       "                time      mass\n",
       "0      -7.516583e-05  0.042978\n",
       "1       0.000000e+00  0.043159\n",
       "2       5.556477e-07  0.043285\n",
       "3       8.340677e-07  0.043392\n",
       "4       1.112223e-06  0.043424\n",
       "...              ...       ...\n",
       "980778  2.724269e+00  0.099858\n",
       "980779  2.724270e+00  0.099167\n",
       "980780  2.724271e+00  0.097943\n",
       "980781  2.724281e+00  0.097541\n",
       "980782  2.724282e+00  0.097224\n",
       "\n",
       "[980783 rows x 2 columns]"
      ]
     },
     "execution_count": 42,
     "metadata": {},
     "output_type": "execute_result"
    }
   ],
   "source": [
    "df11"
   ]
  },
  {
   "cell_type": "code",
   "execution_count": null,
   "id": "f8cb6f42",
   "metadata": {},
   "outputs": [],
   "source": [
    "df11['time'] = df11['time'].apply(decimal_to_hms)"
   ]
  },
  {
   "cell_type": "code",
   "execution_count": 43,
   "id": "f064ff6a",
   "metadata": {},
   "outputs": [],
   "source": [
    "df11 = df11[df11['mass']>0]"
   ]
  },
  {
   "cell_type": "code",
   "execution_count": 44,
   "id": "0de159d5",
   "metadata": {},
   "outputs": [],
   "source": [
    "df11.set_index('time', inplace=True)"
   ]
  },
  {
   "cell_type": "code",
   "execution_count": 46,
   "id": "38b790b6",
   "metadata": {},
   "outputs": [],
   "source": [
    "sdc = df11[['mass']].copy()"
   ]
  },
  {
   "cell_type": "code",
   "execution_count": 47,
   "id": "5dc96569",
   "metadata": {},
   "outputs": [],
   "source": [
    "dc_result = seasonal_decompose(sdc, model=\"multiplicative\", period = 24)"
   ]
  },
  {
   "cell_type": "code",
   "execution_count": 48,
   "id": "0116d597",
   "metadata": {},
   "outputs": [
    {
     "data": {
      "image/png": "[encoded data removed]",
      "text/plain": [
       "<Figure size 640x480 with 4 Axes>"
      ]
     },
     "metadata": {},
     "output_type": "display_data"
    }
   ],
   "source": [
    "trend = dc_result.trend\n",
    "seasonal = dc_result.seasonal\n",
    "residual = dc_result.resid\n",
    "\n",
    "dc_result.plot();"
   ]
  },
  {
   "cell_type": "code",
   "execution_count": null,
   "id": "e726f143",
   "metadata": {},
   "outputs": [],
   "source": [
    "train_size = int(len(df11) * 0.95)\n",
    "train = df11[:train_size]\n",
    "test = df11[train_size:]"
   ]
  },
  {
   "cell_type": "code",
   "execution_count": null,
   "id": "e398e542",
   "metadata": {},
   "outputs": [],
   "source": [
    "alpha = 0.3\n",
    "beta = 0.1\n",
    "gamma = 0.2"
   ]
  },
  {
   "cell_type": "code",
   "execution_count": null,
   "id": "32a35832",
   "metadata": {},
   "outputs": [],
   "source": [
    "# Create the model\n",
    "model = ExponentialSmoothing(train, seasonal_periods=24, trend='add', seasonal='add')\n",
    "\n",
    "# Fit the model to the training data\n",
    "model_fit = model.fit(smoothing_level=alpha, smoothing_trend=beta, smoothing_seasonal=gamma)\n"
   ]
  },
  {
   "cell_type": "code",
   "execution_count": null,
   "id": "15b8ec2e",
   "metadata": {},
   "outputs": [],
   "source": [
    "# Make predictions for the test data\n",
    "predictions = model_fit.forecast(len(test))"
   ]
  },
  {
   "cell_type": "code",
   "execution_count": null,
   "id": "037ed482",
   "metadata": {},
   "outputs": [],
   "source": [
    "\n",
    "# Evaluate the model\n",
    "mse = mean_squared_error(test, predictions)\n",
    "rmse = np.sqrt(mse)\n",
    "print(f'MSE: {mse}, RMSE: {rmse}')\n"
   ]
  },
  {
   "cell_type": "code",
   "execution_count": null,
   "id": "eac5c40d",
   "metadata": {},
   "outputs": [],
   "source": [
    "# Visualize the results\n",
    "plt.plot(train, label='Training')\n",
    "plt.plot(test, label='Testing')\n",
    "plt.plot(predictions, label='Predictions')\n",
    "plt.ylabel('Mass (ng)', fontsize=15)\n",
    "plt.gca().set_xticklabels([])\n",
    "plt.legend()\n",
    "plt.show()"
   ]
  },
  {
   "cell_type": "code",
   "execution_count": null,
   "id": "444b4e19",
   "metadata": {},
   "outputs": [],
   "source": [
    "forecast = model_fit.forecast(steps= 50000)\n",
    "forecast"
   ]
  },
  {
   "cell_type": "code",
   "execution_count": null,
   "id": "0523b2ea",
   "metadata": {},
   "outputs": [],
   "source": [
    "plt.plot(train, label='Training')\n",
    "plt.plot(test, label='Testing')\n",
    "plt.plot(predictions, label='Predictions')\n",
    "plt.ylabel('Mass (ng)', fontsize=15)\n",
    "plt.plot(range(len(train), len(train)+len(forecast)), forecast, label='Forecast')\n",
    "plt.gca().set_xticklabels([])\n",
    "plt.legend()\n",
    "plt.show()"
   ]
  },
  {
   "cell_type": "code",
   "execution_count": null,
   "id": "d1f35593",
   "metadata": {},
   "outputs": [],
   "source": [
    "plt.plot(forecast)\n",
    "plt.xlabel('Steps (Indices)', fontsize=10)\n",
    "plt.ylabel('Mass (ng)', fontsize=10)\n",
    "plt.legend()\n",
    "plt.show()"
   ]
  },
  {
   "cell_type": "markdown",
   "id": "4cbc8f35",
   "metadata": {},
   "source": [
    "# 20180712"
   ]
  },
  {
   "cell_type": "code",
   "execution_count": 49,
   "id": "fddd4462",
   "metadata": {},
   "outputs": [],
   "source": [
    "df712 = pd.read_csv('20180712.csv')"
   ]
  },
  {
   "cell_type": "code",
   "execution_count": 50,
   "id": "08e17790",
   "metadata": {},
   "outputs": [],
   "source": [
    "df712 = df712.rename(columns={'Time [h]': 'time', 'Mass [ng]': 'mass', 'Mean mass [ng]' : 'mean'})\n",
    "df712 = df712.drop(['mean'], axis = 1)\n",
    "df712 = df712.dropna()"
   ]
  },
  {
   "cell_type": "code",
   "execution_count": 12,
   "id": "8fe0eace",
   "metadata": {},
   "outputs": [
    {
     "data": {
      "text/html": [
       "<div>\n",
       "<style scoped>\n",
       "    .dataframe tbody tr th:only-of-type {\n",
       "        vertical-align: middle;\n",
       "    }\n",
       "\n",
       "    .dataframe tbody tr th {\n",
       "        vertical-align: top;\n",
       "    }\n",
       "\n",
       "    .dataframe thead th {\n",
       "        text-align: right;\n",
       "    }\n",
       "</style>\n",
       "<table border=\"1\" class=\"dataframe\">\n",
       "  <thead>\n",
       "    <tr style=\"text-align: right;\">\n",
       "      <th></th>\n",
       "      <th>time</th>\n",
       "      <th>mass</th>\n",
       "    </tr>\n",
       "  </thead>\n",
       "  <tbody>\n",
       "    <tr>\n",
       "      <th>0</th>\n",
       "      <td>-6.654859e-05</td>\n",
       "      <td>0.091996</td>\n",
       "    </tr>\n",
       "    <tr>\n",
       "      <th>1</th>\n",
       "      <td>0.000000e+00</td>\n",
       "      <td>0.091949</td>\n",
       "    </tr>\n",
       "    <tr>\n",
       "      <th>2</th>\n",
       "      <td>2.784199e-07</td>\n",
       "      <td>0.091937</td>\n",
       "    </tr>\n",
       "    <tr>\n",
       "      <th>3</th>\n",
       "      <td>5.568398e-07</td>\n",
       "      <td>0.091909</td>\n",
       "    </tr>\n",
       "    <tr>\n",
       "      <th>4</th>\n",
       "      <td>8.348624e-07</td>\n",
       "      <td>0.091833</td>\n",
       "    </tr>\n",
       "    <tr>\n",
       "      <th>...</th>\n",
       "      <td>...</td>\n",
       "      <td>...</td>\n",
       "    </tr>\n",
       "    <tr>\n",
       "      <th>692620</th>\n",
       "      <td>1.923856e+00</td>\n",
       "      <td>0.153420</td>\n",
       "    </tr>\n",
       "    <tr>\n",
       "      <th>692621</th>\n",
       "      <td>1.923857e+00</td>\n",
       "      <td>0.153644</td>\n",
       "    </tr>\n",
       "    <tr>\n",
       "      <th>692622</th>\n",
       "      <td>1.923857e+00</td>\n",
       "      <td>0.153848</td>\n",
       "    </tr>\n",
       "    <tr>\n",
       "      <th>692623</th>\n",
       "      <td>1.923865e+00</td>\n",
       "      <td>0.154023</td>\n",
       "    </tr>\n",
       "    <tr>\n",
       "      <th>692624</th>\n",
       "      <td>1.923866e+00</td>\n",
       "      <td>0.154178</td>\n",
       "    </tr>\n",
       "  </tbody>\n",
       "</table>\n",
       "<p>692625 rows × 2 columns</p>\n",
       "</div>"
      ],
      "text/plain": [
       "                time      mass\n",
       "0      -6.654859e-05  0.091996\n",
       "1       0.000000e+00  0.091949\n",
       "2       2.784199e-07  0.091937\n",
       "3       5.568398e-07  0.091909\n",
       "4       8.348624e-07  0.091833\n",
       "...              ...       ...\n",
       "692620  1.923856e+00  0.153420\n",
       "692621  1.923857e+00  0.153644\n",
       "692622  1.923857e+00  0.153848\n",
       "692623  1.923865e+00  0.154023\n",
       "692624  1.923866e+00  0.154178\n",
       "\n",
       "[692625 rows x 2 columns]"
      ]
     },
     "execution_count": 12,
     "metadata": {},
     "output_type": "execute_result"
    }
   ],
   "source": [
    "df712"
   ]
  },
  {
   "cell_type": "code",
   "execution_count": null,
   "id": "c1d1f3c4",
   "metadata": {},
   "outputs": [],
   "source": [
    "#df712['time'] = df712['time'].apply(decimal_to_hms)"
   ]
  },
  {
   "cell_type": "code",
   "execution_count": 51,
   "id": "ed7fd9a5",
   "metadata": {},
   "outputs": [],
   "source": [
    "df712 = df712[df712['mass']>0]"
   ]
  },
  {
   "cell_type": "code",
   "execution_count": 52,
   "id": "84f9e3b8",
   "metadata": {},
   "outputs": [],
   "source": [
    "df712.set_index('time', inplace=True)"
   ]
  },
  {
   "cell_type": "code",
   "execution_count": 53,
   "id": "036c4c26",
   "metadata": {},
   "outputs": [],
   "source": [
    "sdc = df712[['mass']].copy()"
   ]
  },
  {
   "cell_type": "code",
   "execution_count": 54,
   "id": "9d53aab6",
   "metadata": {},
   "outputs": [],
   "source": [
    "dc_result = seasonal_decompose(sdc, model=\"multiplicative\", period = 24)"
   ]
  },
  {
   "cell_type": "code",
   "execution_count": 55,
   "id": "cae28f89",
   "metadata": {},
   "outputs": [
    {
     "data": {
      "image/png": "[encoded data removed]",
      "text/plain": [
       "<Figure size 640x480 with 4 Axes>"
      ]
     },
     "metadata": {},
     "output_type": "display_data"
    }
   ],
   "source": [
    "trend = dc_result.trend\n",
    "seasonal = dc_result.seasonal\n",
    "residual = dc_result.resid\n",
    "\n",
    "dc_result.plot();"
   ]
  },
  {
   "cell_type": "code",
   "execution_count": null,
   "id": "265f5f84",
   "metadata": {},
   "outputs": [],
   "source": [
    "train_size = int(len(df712) * 0.95)\n",
    "train = df712[:train_size]\n",
    "test = df712[train_size:]"
   ]
  },
  {
   "cell_type": "code",
   "execution_count": null,
   "id": "57cd2d47",
   "metadata": {},
   "outputs": [],
   "source": [
    "alpha = 0.3\n",
    "beta = 0.1\n",
    "gamma = 0.2"
   ]
  },
  {
   "cell_type": "code",
   "execution_count": null,
   "id": "3079e039",
   "metadata": {},
   "outputs": [],
   "source": [
    "# Create the model\n",
    "model = ExponentialSmoothing(train, seasonal_periods=24, trend='add', seasonal='add')\n",
    "\n",
    "# Fit the model to the training data\n",
    "model_fit = model.fit(smoothing_level=alpha, smoothing_trend=beta, smoothing_seasonal=gamma)\n"
   ]
  },
  {
   "cell_type": "code",
   "execution_count": null,
   "id": "fb0d092b",
   "metadata": {},
   "outputs": [],
   "source": [
    "# Make predictions for the test data\n",
    "predictions = model_fit.forecast(len(test))"
   ]
  },
  {
   "cell_type": "code",
   "execution_count": null,
   "id": "361e468a",
   "metadata": {},
   "outputs": [],
   "source": [
    "# Evaluate the model\n",
    "mse = mean_squared_error(test, predictions)\n",
    "rmse = np.sqrt(mse)\n",
    "print(f'MSE: {mse}, RMSE: {rmse}')\n"
   ]
  },
  {
   "cell_type": "code",
   "execution_count": null,
   "id": "085d1891",
   "metadata": {},
   "outputs": [],
   "source": [
    "# Visualize the results\n",
    "plt.plot(train, label='Training')\n",
    "plt.plot(test, label='Testing')\n",
    "plt.plot(predictions, label='Predictions')\n",
    "plt.ylabel('Mass (ng)', fontsize=15)\n",
    "plt.gca().set_xticklabels([])\n",
    "plt.legend()\n",
    "plt.show()"
   ]
  },
  {
   "cell_type": "code",
   "execution_count": null,
   "id": "8328ac2f",
   "metadata": {},
   "outputs": [],
   "source": [
    "forecast = model_fit.forecast(steps= 35000)\n",
    "forecast"
   ]
  },
  {
   "cell_type": "code",
   "execution_count": null,
   "id": "b67e5aa4",
   "metadata": {},
   "outputs": [],
   "source": [
    "plt.plot(train, label='Training')\n",
    "plt.plot(test, label='Testing')\n",
    "plt.plot(predictions, label='Predictions')\n",
    "plt.ylabel('Mass (ng)', fontsize=15)\n",
    "plt.plot(range(len(train), len(train)+len(forecast)), forecast, label='Forecast')\n",
    "plt.gca().set_xticklabels([])\n",
    "plt.legend()\n",
    "plt.show()"
   ]
  },
  {
   "cell_type": "code",
   "execution_count": null,
   "id": "99de8e39",
   "metadata": {},
   "outputs": [],
   "source": [
    "plt.plot(forecast)\n",
    "plt.title('Forecasted Period', fontsize=15)\n",
    "plt.xlabel('Steps (Indices)', fontsize=10)\n",
    "plt.ylabel('Mass (ng)', fontsize=10)\n",
    "plt.legend()\n",
    "plt.show()"
   ]
  },
  {
   "cell_type": "markdown",
   "id": "a8174e3c",
   "metadata": {},
   "source": [
    "# 20191017 (Yeast 1)"
   ]
  },
  {
   "cell_type": "code",
   "execution_count": 56,
   "id": "0aea19d1",
   "metadata": {},
   "outputs": [],
   "source": [
    "df17Y1 = pd.read_csv('20191017Y1.csv')"
   ]
  },
  {
   "cell_type": "code",
   "execution_count": 57,
   "id": "04fbe920",
   "metadata": {},
   "outputs": [],
   "source": [
    "df17Y1 = df17Y1.rename(columns={'Time (h)': 'time', 'Mass (ng)': 'mass', 'Mean mass (ng)' : 'mean'})\n",
    "df17Y1 = df17Y1.drop(['mean'], axis = 1)\n",
    "df17Y1 = df17Y1.dropna()"
   ]
  },
  {
   "cell_type": "code",
   "execution_count": null,
   "id": "42a6b2d9",
   "metadata": {},
   "outputs": [],
   "source": [
    "#df17Y1['time'] = df17Y1['time'].apply(decimal_to_hms)"
   ]
  },
  {
   "cell_type": "code",
   "execution_count": 58,
   "id": "c2890fdc",
   "metadata": {},
   "outputs": [],
   "source": [
    "df17Y1 = df17Y1[df17Y1['mass']>0]"
   ]
  },
  {
   "cell_type": "code",
   "execution_count": 59,
   "id": "fa3c72c8",
   "metadata": {},
   "outputs": [],
   "source": [
    "df17Y1 = df17Y1[['mass']].copy()"
   ]
  },
  {
   "cell_type": "code",
   "execution_count": 60,
   "id": "c16d3289",
   "metadata": {},
   "outputs": [],
   "source": [
    "dc_result = seasonal_decompose(sdc, model=\"multiplicative\", period = 24)"
   ]
  },
  {
   "cell_type": "code",
   "execution_count": 61,
   "id": "d027163d",
   "metadata": {},
   "outputs": [
    {
     "data": {
      "image/png": "[encoded data removed]",
      "text/plain": [
       "<Figure size 640x480 with 4 Axes>"
      ]
     },
     "metadata": {},
     "output_type": "display_data"
    }
   ],
   "source": [
    "trend = dc_result.trend\n",
    "seasonal = dc_result.seasonal\n",
    "residual = dc_result.resid\n",
    "\n",
    "dc_result.plot();"
   ]
  },
  {
   "cell_type": "code",
   "execution_count": null,
   "id": "2db8e9ad",
   "metadata": {},
   "outputs": [],
   "source": [
    "df17Y1.set_index('time', inplace=True)"
   ]
  },
  {
   "cell_type": "code",
   "execution_count": null,
   "id": "381b3f3c",
   "metadata": {},
   "outputs": [],
   "source": [
    "train_size = int(len(df17Y1) * 0.95)\n",
    "train = df17Y1[:train_size]\n",
    "test = df17Y1[train_size:]"
   ]
  },
  {
   "cell_type": "code",
   "execution_count": null,
   "id": "0ebf3b04",
   "metadata": {},
   "outputs": [],
   "source": [
    "alpha = 0.3\n",
    "beta = 0.1\n",
    "gamma = 0.2"
   ]
  },
  {
   "cell_type": "code",
   "execution_count": null,
   "id": "e6a56a1a",
   "metadata": {},
   "outputs": [],
   "source": [
    "# Create the model\n",
    "model = ExponentialSmoothing(train, seasonal_periods=24, trend='add', seasonal='add')\n",
    "\n",
    "# Fit the model to the training data\n",
    "model_fit = model.fit(smoothing_level=alpha, smoothing_trend=beta, smoothing_seasonal=gamma)\n"
   ]
  },
  {
   "cell_type": "code",
   "execution_count": null,
   "id": "d4aaa3ff",
   "metadata": {},
   "outputs": [],
   "source": [
    "# Make predictions for the test data\n",
    "predictions = model_fit.forecast(len(test))"
   ]
  },
  {
   "cell_type": "code",
   "execution_count": null,
   "id": "fb8f99d1",
   "metadata": {},
   "outputs": [],
   "source": [
    "# Evaluate the model\n",
    "mse = mean_squared_error(test, predictions)\n",
    "rmse = np.sqrt(mse)\n",
    "print(f'MSE: {mse}, RMSE: {rmse}')"
   ]
  },
  {
   "cell_type": "code",
   "execution_count": null,
   "id": "8d280d45",
   "metadata": {},
   "outputs": [],
   "source": [
    "# Visualize the results\n",
    "plt.plot(train, label='Training')\n",
    "plt.plot(test, label='Testing')\n",
    "plt.plot(predictions, label='Predictions')\n",
    "plt.ylabel('Mass (ng)', fontsize=15)\n",
    "plt.gca().set_xticklabels([])\n",
    "plt.legend()\n",
    "plt.show()"
   ]
  },
  {
   "cell_type": "code",
   "execution_count": null,
   "id": "910408b6",
   "metadata": {},
   "outputs": [],
   "source": [
    "forecast = model_fit.forecast(steps= 44000)\n",
    "forecast"
   ]
  },
  {
   "cell_type": "code",
   "execution_count": null,
   "id": "bd4e3dd4",
   "metadata": {},
   "outputs": [],
   "source": [
    "plt.plot(train, label='Training')\n",
    "plt.plot(test, label='Testing')\n",
    "plt.plot(predictions, label='Predictions')\n",
    "plt.ylabel('Mass (ng)', fontsize=15)\n",
    "plt.plot(range(len(train), len(train)+len(forecast)), forecast, label='Forecast')\n",
    "plt.gca().set_xticklabels([])\n",
    "plt.legend()\n",
    "plt.show()"
   ]
  },
  {
   "cell_type": "code",
   "execution_count": null,
   "id": "226e53c5",
   "metadata": {},
   "outputs": [],
   "source": [
    "plt.plot(forecast)\n",
    "plt.title('Forecasted Period', fontsize=15)\n",
    "plt.xlabel('Steps (Indices)', fontsize=10)\n",
    "plt.ylabel('Mass (ng)', fontsize=10)\n",
    "plt.legend()\n",
    "plt.show()"
   ]
  },
  {
   "cell_type": "markdown",
   "id": "e84de29d",
   "metadata": {},
   "source": [
    "# 20191017 (Yeast 2)"
   ]
  },
  {
   "cell_type": "code",
   "execution_count": 62,
   "id": "c271f145",
   "metadata": {},
   "outputs": [],
   "source": [
    "df17Y2 = pd.read_csv('20191017Y2.csv')"
   ]
  },
  {
   "cell_type": "code",
   "execution_count": 63,
   "id": "8cf9f153",
   "metadata": {},
   "outputs": [],
   "source": [
    "df17Y2 = df17Y2.rename(columns={'Time (h)': 'time', 'Mass (ng)': 'mass', 'Mean mass (ng)' : 'mean'})\n",
    "df17Y2 = df17Y2.drop(['mean'], axis = 1)\n",
    "df17Y2 = df17Y2.dropna()"
   ]
  },
  {
   "cell_type": "code",
   "execution_count": 64,
   "id": "e2b644bb",
   "metadata": {},
   "outputs": [],
   "source": [
    "df17Y2 = df17Y2[df17Y2['mass']>0]"
   ]
  },
  {
   "cell_type": "code",
   "execution_count": 65,
   "id": "087b3be2",
   "metadata": {},
   "outputs": [],
   "source": [
    "sdc = df17Y2[['mass']].copy()"
   ]
  },
  {
   "cell_type": "code",
   "execution_count": 66,
   "id": "4c95c12b",
   "metadata": {},
   "outputs": [],
   "source": [
    "dc_result = seasonal_decompose(sdc, model=\"multiplicative\", period = 24)"
   ]
  },
  {
   "cell_type": "code",
   "execution_count": 67,
   "id": "3ef97c66",
   "metadata": {},
   "outputs": [
    {
     "data": {
      "image/png": "[encoded data removed]",
      "text/plain": [
       "<Figure size 640x480 with 4 Axes>"
      ]
     },
     "metadata": {},
     "output_type": "display_data"
    }
   ],
   "source": [
    "trend = dc_result.trend\n",
    "seasonal = dc_result.seasonal\n",
    "residual = dc_result.resid\n",
    "\n",
    "dc_result.plot();"
   ]
  },
  {
   "cell_type": "code",
   "execution_count": null,
   "id": "7b48ad0b",
   "metadata": {},
   "outputs": [],
   "source": [
    "df17Y2['time'] = df17Y2['time'].apply(decimal_to_hms)"
   ]
  },
  {
   "cell_type": "code",
   "execution_count": null,
   "id": "6ff967e5",
   "metadata": {},
   "outputs": [],
   "source": [
    "df17Y2.set_index('time', inplace=True)"
   ]
  },
  {
   "cell_type": "code",
   "execution_count": null,
   "id": "341ad579",
   "metadata": {},
   "outputs": [],
   "source": [
    "train_size = int(len(df17Y2) * 0.95)\n",
    "train = df17Y2[:train_size]\n",
    "test = df17Y2[train_size:]"
   ]
  },
  {
   "cell_type": "code",
   "execution_count": null,
   "id": "c9ef9d49",
   "metadata": {},
   "outputs": [],
   "source": [
    "alpha = 0.3\n",
    "beta = 0.1\n",
    "gamma = 0.2"
   ]
  },
  {
   "cell_type": "code",
   "execution_count": null,
   "id": "a556c3ea",
   "metadata": {},
   "outputs": [],
   "source": [
    "# Create the model\n",
    "model = ExponentialSmoothing(train, seasonal_periods=24, trend='add', seasonal='add')\n",
    "\n",
    "# Fit the model to the training data\n",
    "model_fit = model.fit(smoothing_level=alpha, smoothing_trend=beta, smoothing_seasonal=gamma)\n"
   ]
  },
  {
   "cell_type": "code",
   "execution_count": null,
   "id": "f7bf6f51",
   "metadata": {},
   "outputs": [],
   "source": [
    "# Make predictions for the test data\n",
    "predictions = model_fit.forecast(len(test))"
   ]
  },
  {
   "cell_type": "code",
   "execution_count": null,
   "id": "88c46619",
   "metadata": {},
   "outputs": [],
   "source": [
    "# Evaluate the model\n",
    "mse = mean_squared_error(test, predictions)\n",
    "rmse = np.sqrt(mse)\n",
    "print(f'MSE: {mse}, RMSE: {rmse}')"
   ]
  },
  {
   "cell_type": "code",
   "execution_count": null,
   "id": "8875a71f",
   "metadata": {},
   "outputs": [],
   "source": [
    "# Visualize the results\n",
    "plt.plot(train, label='Training')\n",
    "plt.plot(test, label='Testing')\n",
    "plt.plot(predictions, label='Predictions')\n",
    "plt.ylabel('Mass (ng)', fontsize=15)\n",
    "plt.gca().set_xticklabels([])\n",
    "plt.legend()\n",
    "plt.show()"
   ]
  },
  {
   "cell_type": "code",
   "execution_count": null,
   "id": "9dd47e84",
   "metadata": {},
   "outputs": [],
   "source": [
    "forecast = model_fit.forecast(steps= 44000)\n",
    "forecast"
   ]
  },
  {
   "cell_type": "code",
   "execution_count": null,
   "id": "e38953cd",
   "metadata": {},
   "outputs": [],
   "source": [
    "plt.plot(train, label='Training')\n",
    "plt.plot(test, label='Testing')\n",
    "plt.plot(predictions, label='Predictions')\n",
    "plt.ylabel('Mass (ng)', fontsize=15)\n",
    "plt.plot(range(len(train), len(train)+len(forecast)), forecast, label='Forecast')\n",
    "plt.gca().set_xticklabels([])\n",
    "plt.legend()\n",
    "plt.show()"
   ]
  },
  {
   "cell_type": "code",
   "execution_count": null,
   "id": "5cc2af20",
   "metadata": {},
   "outputs": [],
   "source": [
    "plt.plot(forecast)\n",
    "plt.title('Forecasted Period', fontsize=15)\n",
    "plt.xlabel('Steps (Indices)', fontsize=10)\n",
    "plt.ylabel('Mass (ng)', fontsize=10)\n",
    "plt.legend()\n",
    "plt.show()"
   ]
  },
  {
   "cell_type": "markdown",
   "id": "7603ab1d",
   "metadata": {},
   "source": [
    "# 20191018 (Yeast 2)"
   ]
  },
  {
   "cell_type": "code",
   "execution_count": 68,
   "id": "5f4541d9",
   "metadata": {},
   "outputs": [],
   "source": [
    "df18Y2 = pd.read_csv('20191018Y2.csv')"
   ]
  },
  {
   "cell_type": "code",
   "execution_count": 69,
   "id": "15b4ed21",
   "metadata": {},
   "outputs": [],
   "source": [
    "df18Y2 = df18Y2.rename(columns={'Time (h)': 'time', 'Mass (ng)': 'mass', 'Mean mass (ng)' : 'mean'})\n",
    "df18Y2 = df18Y2.drop(['mean'], axis = 1)\n",
    "df18Y2 = df18Y2.dropna()"
   ]
  },
  {
   "cell_type": "code",
   "execution_count": 70,
   "id": "cc5dc61c",
   "metadata": {},
   "outputs": [],
   "source": [
    "df18Y2 = df18Y2[df18Y2['mass']>0]"
   ]
  },
  {
   "cell_type": "code",
   "execution_count": 71,
   "id": "e56606a3",
   "metadata": {},
   "outputs": [],
   "source": [
    "sdc = df18Y2[['mass']].copy()"
   ]
  },
  {
   "cell_type": "code",
   "execution_count": 72,
   "id": "25b59995",
   "metadata": {},
   "outputs": [],
   "source": [
    "dc_result = seasonal_decompose(sdc, model=\"multiplicative\", period = 24)"
   ]
  },
  {
   "cell_type": "code",
   "execution_count": 73,
   "id": "6e9fed55",
   "metadata": {},
   "outputs": [
    {
     "data": {
      "image/png": "[encoded data removed]",
      "text/plain": [
       "<Figure size 640x480 with 4 Axes>"
      ]
     },
     "metadata": {},
     "output_type": "display_data"
    }
   ],
   "source": [
    "trend = dc_result.trend\n",
    "seasonal = dc_result.seasonal\n",
    "residual = dc_result.resid\n",
    "\n",
    "dc_result.plot();"
   ]
  },
  {
   "cell_type": "code",
   "execution_count": null,
   "id": "f582443a",
   "metadata": {},
   "outputs": [],
   "source": [
    "df18Y2['time'] = df18Y2['time'].apply(decimal_to_hms)"
   ]
  },
  {
   "cell_type": "code",
   "execution_count": null,
   "id": "3929549d",
   "metadata": {},
   "outputs": [],
   "source": [
    "df18Y2.set_index('time', inplace=True)"
   ]
  },
  {
   "cell_type": "code",
   "execution_count": null,
   "id": "9d0eac52",
   "metadata": {},
   "outputs": [],
   "source": [
    "train_size = int(len(df18Y2) * 0.95)\n",
    "train = df18Y2[:train_size]\n",
    "test = df18Y2[train_size:]"
   ]
  },
  {
   "cell_type": "code",
   "execution_count": null,
   "id": "a9b7af00",
   "metadata": {},
   "outputs": [],
   "source": [
    "alpha = 0.3\n",
    "beta = 0.1\n",
    "gamma = 0.2"
   ]
  },
  {
   "cell_type": "code",
   "execution_count": null,
   "id": "a2c0c236",
   "metadata": {},
   "outputs": [],
   "source": [
    "# Create the model\n",
    "model = ExponentialSmoothing(train, seasonal_periods=24, trend='add', seasonal='add')\n",
    "\n",
    "# Fit the model to the training data\n",
    "model_fit = model.fit(smoothing_level=alpha, smoothing_trend=beta, smoothing_seasonal=gamma)\n"
   ]
  },
  {
   "cell_type": "code",
   "execution_count": null,
   "id": "d7be211c",
   "metadata": {},
   "outputs": [],
   "source": [
    "# Make predictions for the test data\n",
    "predictions = model_fit.forecast(len(test))"
   ]
  },
  {
   "cell_type": "code",
   "execution_count": null,
   "id": "19bd59c0",
   "metadata": {},
   "outputs": [],
   "source": [
    "# Evaluate the model\n",
    "mse = mean_squared_error(test, predictions)\n",
    "rmse = np.sqrt(mse)\n",
    "print(f'MSE: {mse}, RMSE: {rmse}')"
   ]
  },
  {
   "cell_type": "code",
   "execution_count": null,
   "id": "6ab701d2",
   "metadata": {},
   "outputs": [],
   "source": [
    "# Visualize the results\n",
    "plt.plot(train, label='Training')\n",
    "plt.plot(test, label='Testing')\n",
    "plt.plot(predictions, label='Predictions')\n",
    "plt.ylabel('Mass (ng)', fontsize=15)\n",
    "plt.gca().set_xticklabels([])\n",
    "plt.legend()\n",
    "plt.show()"
   ]
  },
  {
   "cell_type": "code",
   "execution_count": null,
   "id": "8ca4b425",
   "metadata": {},
   "outputs": [],
   "source": [
    "forecast = model_fit.forecast(steps= 33000)\n",
    "forecast"
   ]
  },
  {
   "cell_type": "code",
   "execution_count": null,
   "id": "4bb22b20",
   "metadata": {},
   "outputs": [],
   "source": [
    "plt.plot(train, label='Training')\n",
    "plt.plot(test, label='Testing')\n",
    "plt.plot(predictions, label='Predictions')\n",
    "plt.ylabel('Mass (ng)', fontsize=15)\n",
    "plt.plot(range(len(train), len(train)+len(forecast)), forecast, label='Forecast')\n",
    "plt.gca().set_xticklabels([])\n",
    "plt.legend()\n",
    "plt.show()"
   ]
  },
  {
   "cell_type": "code",
   "execution_count": null,
   "id": "21cca442",
   "metadata": {},
   "outputs": [],
   "source": [
    "plt.plot(forecast)\n",
    "plt.title('Forecasted Period', fontsize=15)\n",
    "plt.xlabel('Steps (Indices)', fontsize=10)\n",
    "plt.ylabel('Mass (ng)', fontsize=10)\n",
    "plt.legend()\n",
    "plt.show()"
   ]
  },
  {
   "cell_type": "markdown",
   "id": "3b8e6910",
   "metadata": {},
   "source": [
    "# 20191021 (Yeast 1)"
   ]
  },
  {
   "cell_type": "code",
   "execution_count": 74,
   "id": "9f961adc",
   "metadata": {},
   "outputs": [],
   "source": [
    "df21Y1 = pd.read_csv('20191021Y1.csv')"
   ]
  },
  {
   "cell_type": "code",
   "execution_count": 75,
   "id": "1d0384ea",
   "metadata": {},
   "outputs": [],
   "source": [
    "df21Y1 = df21Y1.rename(columns={'Time (h)': 'time', 'Mass (ng)': 'mass', 'Mean mass (ng)' : 'mean'})\n",
    "df21Y1 = df21Y1.drop(['mean'], axis = 1)\n",
    "df21Y1 = df21Y1.dropna()"
   ]
  },
  {
   "cell_type": "code",
   "execution_count": 76,
   "id": "b82f2e3f",
   "metadata": {},
   "outputs": [],
   "source": [
    "df21Y1 = df21Y1[df21Y1['mass']>0]"
   ]
  },
  {
   "cell_type": "code",
   "execution_count": 77,
   "id": "79b58889",
   "metadata": {},
   "outputs": [],
   "source": [
    "sdc = df21Y1[['mass']].copy()"
   ]
  },
  {
   "cell_type": "code",
   "execution_count": 78,
   "id": "159e4f89",
   "metadata": {},
   "outputs": [],
   "source": [
    "dc_result = seasonal_decompose(sdc, model=\"multiplicative\", period = 24)"
   ]
  },
  {
   "cell_type": "code",
   "execution_count": 79,
   "id": "553137ab",
   "metadata": {},
   "outputs": [
    {
     "data": {
      "image/png": "[encoded data removed]",
      "text/plain": [
       "<Figure size 640x480 with 4 Axes>"
      ]
     },
     "metadata": {},
     "output_type": "display_data"
    }
   ],
   "source": [
    "trend = dc_result.trend\n",
    "seasonal = dc_result.seasonal\n",
    "residual = dc_result.resid\n",
    "\n",
    "dc_result.plot();"
   ]
  },
  {
   "cell_type": "code",
   "execution_count": null,
   "id": "5e92b53d",
   "metadata": {},
   "outputs": [],
   "source": [
    "df21Y1['time'] = df21Y1['time'].apply(decimal_to_hms)"
   ]
  },
  {
   "cell_type": "code",
   "execution_count": null,
   "id": "07daad2e",
   "metadata": {},
   "outputs": [],
   "source": [
    "df21Y1.set_index('time', inplace=True)"
   ]
  },
  {
   "cell_type": "code",
   "execution_count": null,
   "id": "95fd814b",
   "metadata": {},
   "outputs": [],
   "source": [
    "train_size = int(len(df21Y1) * 0.95)\n",
    "train = df21Y1[:train_size]\n",
    "test = df21Y1[train_size:]"
   ]
  },
  {
   "cell_type": "code",
   "execution_count": null,
   "id": "74a4544b",
   "metadata": {},
   "outputs": [],
   "source": [
    "alpha = 0.3\n",
    "beta = 0.1\n",
    "gamma = 0.2"
   ]
  },
  {
   "cell_type": "code",
   "execution_count": null,
   "id": "afd17f9c",
   "metadata": {},
   "outputs": [],
   "source": [
    "\n",
    "# Create the model\n",
    "model = ExponentialSmoothing(train, seasonal_periods=24, trend='add', seasonal='add')\n",
    "\n",
    "# Fit the model to the training data\n",
    "model_fit = model.fit(smoothing_level=alpha, smoothing_trend=beta, smoothing_seasonal=gamma)\n"
   ]
  },
  {
   "cell_type": "code",
   "execution_count": null,
   "id": "f97d160b",
   "metadata": {},
   "outputs": [],
   "source": [
    "# Make predictions for the test data\n",
    "predictions = model_fit.forecast(len(test))"
   ]
  },
  {
   "cell_type": "code",
   "execution_count": null,
   "id": "079bd2ad",
   "metadata": {},
   "outputs": [],
   "source": [
    "# Evaluate the model\n",
    "mse = mean_squared_error(test, predictions)\n",
    "rmse = np.sqrt(mse)\n",
    "print(f'MSE: {mse}, RMSE: {rmse}')"
   ]
  },
  {
   "cell_type": "code",
   "execution_count": null,
   "id": "90c563a4",
   "metadata": {},
   "outputs": [],
   "source": [
    "# Visualize the results\n",
    "plt.plot(train, label='Training')\n",
    "plt.plot(test, label='Testing')\n",
    "plt.plot(predictions, label='Predictions')\n",
    "plt.ylabel('Mass (ng)', fontsize=15)\n",
    "plt.gca().set_xticklabels([])\n",
    "plt.legend()\n",
    "plt.show()"
   ]
  },
  {
   "cell_type": "code",
   "execution_count": null,
   "id": "cfcd9b6a",
   "metadata": {},
   "outputs": [],
   "source": [
    "forecast = model_fit.forecast(steps= 44000)\n",
    "forecast"
   ]
  },
  {
   "cell_type": "code",
   "execution_count": null,
   "id": "58ad5f28",
   "metadata": {},
   "outputs": [],
   "source": [
    "plt.plot(train, label='Training')\n",
    "plt.plot(test, label='Testing')\n",
    "plt.plot(predictions, label='Predictions')\n",
    "plt.ylabel('Mass (ng)', fontsize=15)\n",
    "plt.plot(range(len(train), len(train)+len(forecast)), forecast, label='Forecast')\n",
    "plt.gca().set_xticklabels([])\n",
    "plt.legend()\n",
    "plt.show()"
   ]
  },
  {
   "cell_type": "code",
   "execution_count": null,
   "id": "4c1488c5",
   "metadata": {},
   "outputs": [],
   "source": [
    "plt.plot(forecast)\n",
    "plt.title('Forecasted Period', fontsize=15)\n",
    "plt.xlabel('Steps (Indices)', fontsize=10)\n",
    "plt.ylabel('Mass (ng)', fontsize=10)\n",
    "plt.legend()\n",
    "plt.show()"
   ]
  }
 ],
 "metadata": {
  "kernelspec": {
   "display_name": "Python 3 (ipykernel)",
   "language": "python",
   "name": "python3"
  },
  "language_info": {
   "codemirror_mode": {
    "name": "ipython",
    "version": 3
   },
   "file_extension": ".py",
   "mimetype": "text/x-python",
   "name": "python",
   "nbconvert_exporter": "python",
   "pygments_lexer": "ipython3",
   "version": "3.9.13"
  }
 },
 "nbformat": 4,
 "nbformat_minor": 5
}
